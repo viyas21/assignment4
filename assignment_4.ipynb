{
  "nbformat": 4,
  "nbformat_minor": 0,
  "metadata": {
    "colab": {
      "provenance": [],
      "authorship_tag": "ABX9TyP9ZSYlhCRz3N0CcuzgdC/a",
      "include_colab_link": true
    },
    "kernelspec": {
      "name": "python3",
      "display_name": "Python 3"
    },
    "language_info": {
      "name": "python"
    }
  },
  "cells": [
    {
      "cell_type": "markdown",
      "metadata": {
        "id": "view-in-github",
        "colab_type": "text"
      },
      "source": [
        "<a href=\"https://colab.research.google.com/github/viyas21/assignment4/blob/main/assignment_4.ipynb\" target=\"_parent\"><img src=\"https://colab.research.google.com/assets/colab-badge.svg\" alt=\"Open In Colab\"/></a>"
      ]
    },
    {
      "cell_type": "markdown",
      "source": [
        "# Write a Python program to create a lambda function that adds 25 to a given number passed in as an argument.**bold text**\n"
      ],
      "metadata": {
        "id": "kIR-w069wNhH"
      }
    },
    {
      "cell_type": "code",
      "execution_count": 1,
      "metadata": {
        "colab": {
          "base_uri": "https://localhost:8080/"
        },
        "id": "5Q9SYPsIv91D",
        "outputId": "3c93b40d-7849-4740-f003-5329506c2895"
      },
      "outputs": [
        {
          "output_type": "stream",
          "name": "stdout",
          "text": [
            "Enter a number: 10\n",
            "10 + 25 = 35\n"
          ]
        }
      ],
      "source": [
        "add_25 = lambda x: x + 25\n",
        "\n",
        "# Test the lambda function\n",
        "num = int(input(\"Enter a number: \"))\n",
        "result = add_25(num)\n",
        "print(f\"{num} + 25 = {result}\")\n"
      ]
    },
    {
      "cell_type": "markdown",
      "source": [
        "# **Write a Python program to triple all numbers of a given list of integers. Use Python map.**"
      ],
      "metadata": {
        "id": "XrG0E8fjwMmh"
      }
    },
    {
      "cell_type": "code",
      "source": [
        "def triple_number(n):\n",
        "    return n * 3\n",
        "\n",
        "# Input list of integers\n",
        "numbers = [1, 2, 3, 4, 5,6,7]\n",
        "\n",
        "# Use map to apply the triple_number function to each element in the list\n",
        "tripled_numbers = list(map(triple_number, numbers))\n",
        "\n",
        "# Print the original and tripled numbers\n",
        "print(\"Original numbers:\", numbers)\n",
        "print(\"Tripled numbers:\", tripled_numbers)\n"
      ],
      "metadata": {
        "colab": {
          "base_uri": "https://localhost:8080/"
        },
        "id": "xCNBJFGGwejx",
        "outputId": "55e43253-beee-4c7c-d4b0-6a225df6545a"
      },
      "execution_count": 2,
      "outputs": [
        {
          "output_type": "stream",
          "name": "stdout",
          "text": [
            "Original numbers: [1, 2, 3, 4, 5, 6, 7]\n",
            "Tripled numbers: [3, 6, 9, 12, 15, 18, 21]\n"
          ]
        }
      ]
    },
    {
      "cell_type": "markdown",
      "source": [
        "# Write a Python program to square the elements of a list using map() **function**"
      ],
      "metadata": {
        "id": "_sHdf_6wwkws"
      }
    },
    {
      "cell_type": "code",
      "source": [
        "def square(n):\n",
        "    return n * n\n",
        "\n",
        "# Input list of numbers\n",
        "numbers = [4,5,2,9]\n",
        "\n",
        "# Use map to apply the square function to each element in the list\n",
        "squared_numbers = list(map(square, numbers))\n",
        "\n",
        "# Print the original and squared numbers\n",
        "print(\"Original numbers:\", numbers)\n",
        "print(\"Squared numbers:\", squared_numbers)\n"
      ],
      "metadata": {
        "colab": {
          "base_uri": "https://localhost:8080/"
        },
        "id": "4sf2lwegwkGZ",
        "outputId": "57b7dc0e-fa7c-4761-a297-32c47a68d6f2"
      },
      "execution_count": 3,
      "outputs": [
        {
          "output_type": "stream",
          "name": "stdout",
          "text": [
            "Original numbers: [4, 5, 2, 9]\n",
            "Squared numbers: [16, 25, 4, 81]\n"
          ]
        }
      ]
    }
  ]
}